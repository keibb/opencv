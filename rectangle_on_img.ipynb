{
 "cells": [
  {
   "cell_type": "code",
   "execution_count": null,
   "metadata": {},
   "outputs": [],
   "source": [
    "import cv2\n",
    "#import numpy as np\n",
    "\n",
    "pnt = {}\n",
    "n = 0\n",
    "def pointcallback(event, x, y, flags, param):\n",
    "    global pnt ,n\n",
    "    if event == cv2.EVENT_LBUTTONDOWN:\n",
    "        pnt[n] = (x,y)\n",
    "        n += 1\n",
    "       \n",
    "cv2.namedWindow('image',cv2.WINDOW_NORMAL)\n",
    "cv2.setMouseCallback('image',pointcallback)\n",
    "cap = cv2.VideoCapture(0)\n",
    "\n",
    "while 1:\n",
    "    _ , img = cap.read()\n",
    "    if n >= 2:\n",
    "        for i in range(1, n, 2):\n",
    "            cv2.rectangle(img,pnt[i-1],pnt[i],(0,255,0),1)\n",
    "    cv2.imshow('image',img)\n",
    "    \n",
    "    \n",
    "    key = cv2.waitKey(10) & 0xFF\n",
    "    if key == ord('q'):\n",
    "        break\n",
    "    elif key == ord('c'):\n",
    "        pnt.clear()\n",
    "        n = 0\n",
    "cap.release()\n",
    "cv2.destroyAllWindows()   "
   ]
  },
  {
   "cell_type": "code",
   "execution_count": null,
   "metadata": {},
   "outputs": [],
   "source": []
  }
 ],
 "metadata": {
  "kernelspec": {
   "display_name": "Python 3",
   "language": "python",
   "name": "python3"
  },
  "language_info": {
   "codemirror_mode": {
    "name": "ipython",
    "version": 3
   },
   "file_extension": ".py",
   "mimetype": "text/x-python",
   "name": "python",
   "nbconvert_exporter": "python",
   "pygments_lexer": "ipython3",
   "version": "3.6.10"
  }
 },
 "nbformat": 4,
 "nbformat_minor": 4
}
